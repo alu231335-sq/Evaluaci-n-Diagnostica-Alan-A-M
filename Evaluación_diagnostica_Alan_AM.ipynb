{
  "nbformat": 4,
  "nbformat_minor": 0,
  "metadata": {
    "colab": {
      "provenance": [],
      "authorship_tag": "ABX9TyOU1RnQ5fbCKOVPb/uGT5cj",
      "include_colab_link": true
    },
    "kernelspec": {
      "name": "python3",
      "display_name": "Python 3"
    },
    "language_info": {
      "name": "python"
    }
  },
  "cells": [
    {
      "cell_type": "markdown",
      "metadata": {
        "id": "view-in-github",
        "colab_type": "text"
      },
      "source": [
        "<a href=\"https://colab.research.google.com/github/alu231335-sq/Evaluaci-n-Diagnostica-Alan-A-M/blob/main/Evaluaci%C3%B3n_diagnostica_Alan_AM.ipynb\" target=\"_parent\"><img src=\"https://colab.research.google.com/assets/colab-badge.svg\" alt=\"Open In Colab\"/></a>"
      ]
    },
    {
      "cell_type": "code",
      "execution_count": null,
      "metadata": {
        "id": "4CCzL8qozqJa"
      },
      "outputs": [],
      "source": []
    },
    {
      "cell_type": "markdown",
      "source": [
        "Página1.- Imprimir nombre, paterno y materno de Alumno"
      ],
      "metadata": {
        "id": "lTEnekcz0GY6"
      }
    },
    {
      "cell_type": "code",
      "source": [
        "print (\"Alan\")\n",
        "print (\"Acosta\")\n",
        "print (\"Madru\")"
      ],
      "metadata": {
        "colab": {
          "base_uri": "https://localhost:8080/"
        },
        "id": "QDv57dzU0gZR",
        "outputId": "873aec65-ba3d-406f-91c5-f210fb624f11"
      },
      "execution_count": 2,
      "outputs": [
        {
          "output_type": "stream",
          "name": "stdout",
          "text": [
            "Alan\n",
            "Acosta\n",
            "Madru\n"
          ]
        }
      ]
    },
    {
      "cell_type": "markdown",
      "source": [
        "Página2.- Capturar 2 números decimales e imprimir Suma\n",
        "\n"
      ],
      "metadata": {
        "id": "P57JtVUc0w5Z"
      }
    },
    {
      "cell_type": "code",
      "source": [
        "n1 = float (input (\"Ingrese el primer numero: \"))\n",
        "n2 = float (input (\"Ingrese el segundo numero: \"))\n",
        "suma = n1 + n2\n",
        "print(\"La suma es:\", suma)"
      ],
      "metadata": {
        "colab": {
          "base_uri": "https://localhost:8080/"
        },
        "id": "ooH61YwS2dqT",
        "outputId": "eab8f885-63e4-4561-f1b1-a63687490f0e"
      },
      "execution_count": 8,
      "outputs": [
        {
          "output_type": "stream",
          "name": "stdout",
          "text": [
            "Ingrese el primer número: 34\n",
            "Ingrese el segundo número: 45\n",
            "La suma es: 79.0\n"
          ]
        }
      ]
    },
    {
      "cell_type": "markdown",
      "source": [
        "Página3.-  Calcular el área de un círculo"
      ],
      "metadata": {
        "id": "c78fNw5L2qj7"
      }
    },
    {
      "cell_type": "code",
      "source": [
        "pi = 3.1416\n",
        "r = float ( input ( \"Ingrese el radio del circulo:\"))\n",
        "A = pi * r * r\n",
        "print (\"El area de tu circulo es: \",A)"
      ],
      "metadata": {
        "colab": {
          "base_uri": "https://localhost:8080/"
        },
        "id": "VzMuLktt2x_q",
        "outputId": "178821c6-76a7-4cdf-d0b6-3ab23c107b58"
      },
      "execution_count": 9,
      "outputs": [
        {
          "output_type": "stream",
          "name": "stdout",
          "text": [
            "Ingrese el radio del circulo:1\n",
            "El area de tu circulo es:  3.1416\n"
          ]
        }
      ]
    },
    {
      "cell_type": "markdown",
      "source": [
        "Pagina4.- Ejemplo de código y ventana resultante de semestre pasado\n",
        "          Convertidor de celsius a farenheit"
      ],
      "metadata": {
        "id": "HqkitVhc3RLz"
      }
    },
    {
      "cell_type": "code",
      "source": [
        "Celsius = float(input(\"Ingresa tus grados celsius:\"))\n",
        "f = (Celsius * 1.8) + 32\n",
        "print(\"Los grados farenheit son:\",f)\n"
      ],
      "metadata": {
        "colab": {
          "base_uri": "https://localhost:8080/"
        },
        "id": "5f1KN3Na3TDw",
        "outputId": "94a097de-baea-4e4e-e8c4-c2981348f3cc"
      },
      "execution_count": 10,
      "outputs": [
        {
          "output_type": "stream",
          "name": "stdout",
          "text": [
            "Ingresa tus grados celsius:100\n",
            "Los grados farenheit son: 212.0\n"
          ]
        }
      ]
    },
    {
      "cell_type": "markdown",
      "source": [
        "Convertidor de farenheit a celsius"
      ],
      "metadata": {
        "id": "hFZmhYMx43ib"
      }
    },
    {
      "cell_type": "code",
      "source": [
        "farenheit = float(input(\"Ingresa tus grados farenheit:\"))\n",
        "c = (farenheit - 32) / 1.8\n",
        "print(\"Los grados celsius son:\",c)"
      ],
      "metadata": {
        "colab": {
          "base_uri": "https://localhost:8080/"
        },
        "id": "4T9ofGSz42Ls",
        "outputId": "5c9326c1-8314-47e2-cfbb-b3369bd3cd79"
      },
      "execution_count": 11,
      "outputs": [
        {
          "output_type": "stream",
          "name": "stdout",
          "text": [
            "Ingresa tus grados farenheit:212\n",
            "Los grados celsius son: 100.0\n"
          ]
        }
      ]
    }
  ]
}